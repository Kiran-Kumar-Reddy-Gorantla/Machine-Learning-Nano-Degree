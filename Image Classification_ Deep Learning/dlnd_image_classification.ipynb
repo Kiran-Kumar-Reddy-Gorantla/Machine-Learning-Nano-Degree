{
 "cells": [
  {
   "cell_type": "markdown",
   "metadata": {
    "collapsed": true
   },
   "source": [
    "# Image Classification\n",
    "In this project, you'll classify images from the [CIFAR-10 dataset](https://www.cs.toronto.edu/~kriz/cifar.html).  The dataset consists of airplanes, dogs, cats, and other objects. You'll preprocess the images, then train a convolutional neural network on all the samples. The images need to be normalized and the labels need to be one-hot encoded.  You'll get to apply what you learned and build a convolutional, max pooling, dropout, and fully connected layers.  At the end, you'll get to see your neural network's predictions on the sample images.\n",
    "## Get the Data\n",
    "Run the following cell to download the [CIFAR-10 dataset for python](https://www.cs.toronto.edu/~kriz/cifar-10-python.tar.gz)."
   ]
  },
  {
   "cell_type": "code",
   "execution_count": 35,
   "metadata": {},
   "outputs": [
    {
     "name": "stdout",
     "output_type": "stream",
     "text": [
      "All files found!\n"
     ]
    }
   ],
   "source": [
    "\"\"\"\n",
    "DON'T MODIFY ANYTHING IN THIS CELL THAT IS BELOW THIS LINE\n",
    "\"\"\"\n",
    "from urllib.request import urlretrieve\n",
    "from os.path import isfile, isdir\n",
    "from tqdm import tqdm\n",
    "import problem_unittests as tests\n",
    "import tarfile\n",
    "\n",
    "cifar10_dataset_folder_path = 'cifar-10-batches-py'\n",
    "\n",
    "# Use Floyd's cifar-10 dataset if present\n",
    "floyd_cifar10_location = '/input/cifar-10/python.tar.gz'\n",
    "if isfile(floyd_cifar10_location):\n",
    "    tar_gz_path = floyd_cifar10_location\n",
    "else:\n",
    "    tar_gz_path = 'cifar-10-python.tar.gz'\n",
    "\n",
    "class DLProgress(tqdm):\n",
    "    last_block = 0\n",
    "\n",
    "    def hook(self, block_num=1, block_size=1, total_size=None):\n",
    "        self.total = total_size\n",
    "        self.update((block_num - self.last_block) * block_size)\n",
    "        self.last_block = block_num\n",
    "\n",
    "if not isfile(tar_gz_path):\n",
    "    with DLProgress(unit='B', unit_scale=True, miniters=1, desc='CIFAR-10 Dataset') as pbar:\n",
    "        urlretrieve(\n",
    "            'https://www.cs.toronto.edu/~kriz/cifar-10-python.tar.gz',\n",
    "            tar_gz_path,\n",
    "            pbar.hook)\n",
    "\n",
    "if not isdir(cifar10_dataset_folder_path):\n",
    "    with tarfile.open(tar_gz_path) as tar:\n",
    "        tar.extractall()\n",
    "        tar.close()\n",
    "\n",
    "\n",
    "tests.test_folder_path(cifar10_dataset_folder_path)"
   ]
  },
  {
   "cell_type": "markdown",
   "metadata": {},
   "source": [
    "## Explore the Data\n",
    "The dataset is broken into batches to prevent your machine from running out of memory.  The CIFAR-10 dataset consists of 5 batches, named `data_batch_1`, `data_batch_2`, etc.. Each batch contains the labels and images that are one of the following:\n",
    "* airplane\n",
    "* automobile\n",
    "* bird\n",
    "* cat\n",
    "* deer\n",
    "* dog\n",
    "* frog\n",
    "* horse\n",
    "* ship\n",
    "* truck\n",
    "\n",
    "Understanding a dataset is part of making predictions on the data.  Play around with the code cell below by changing the `batch_id` and `sample_id`. The `batch_id` is the id for a batch (1-5). The `sample_id` is the id for a image and label pair in the batch.\n",
    "\n",
    "Ask yourself \"What are all possible labels?\", \"What is the range of values for the image data?\", \"Are the labels in order or random?\".  Answers to questions like these will help you preprocess the data and end up with better predictions."
   ]
  },
  {
   "cell_type": "code",
   "execution_count": 36,
   "metadata": {},
   "outputs": [
    {
     "name": "stdout",
     "output_type": "stream",
     "text": [
      "\n",
      "Stats of batch 1:\n",
      "Samples: 10000\n",
      "Label Counts: {0: 1005, 1: 974, 2: 1032, 3: 1016, 4: 999, 5: 937, 6: 1030, 7: 1001, 8: 1025, 9: 981}\n",
      "First 20 Labels: [6, 9, 9, 4, 1, 1, 2, 7, 8, 3, 4, 7, 7, 2, 9, 9, 9, 3, 2, 6]\n",
      "\n",
      "Example of Image 100:\n",
      "Image - Min Value: 30 Max Value: 242\n",
      "Image - Shape: (32, 32, 3)\n",
      "Label - Label Id: 8 Name: ship\n"
     ]
    },
    {
     "data": {
      "image/png": "[encoded data removed]",
      "text/plain": [
       "<matplotlib.figure.Figure at 0x7fd10ed58668>"
      ]
     },
     "metadata": {
      "image/png": {
       "height": 250,
       "width": 253
      }
     },
     "output_type": "display_data"
    }
   ],
   "source": [
    "%matplotlib inline\n",
    "%config InlineBackend.figure_format = 'retina'\n",
    "\n",
    "import helper\n",
    "import numpy as np\n",
    "\n",
    "# Explore the dataset\n",
    "batch_id = 1\n",
    "sample_id = 100\n",
    "helper.display_stats(cifar10_dataset_folder_path, batch_id, sample_id)"
   ]
  },
  {
   "cell_type": "markdown",
   "metadata": {},
   "source": [
    "## Implement Preprocess Functions\n",
    "### Normalize\n",
    "In the cell below, implement the `normalize` function to take in image data, `x`, and return it as a normalized Numpy array. The values should be in the range of 0 to 1, inclusive.  The return object should be the same shape as `x`."
   ]
  },
  {
   "cell_type": "code",
   "execution_count": 37,
   "metadata": {},
   "outputs": [
    {
     "name": "stdout",
     "output_type": "stream",
     "text": [
      "Tests Passed\n"
     ]
    }
   ],
   "source": [
    "def normalize(x):\n",
    "    \"\"\"\n",
    "    Normalize a list of sample image data in the range of 0 to 1\n",
    "    : x: List of image data.  The image shape is (32, 32, 3)\n",
    "    : return: Numpy array of normalize data\n",
    "    \"\"\"\n",
    "    # TODO: Implement Function\n",
    "    x = np.array(x, np.float)\n",
    "    x=x/255\n",
    "   \n",
    "    \n",
    "    return x\n",
    "\n",
    "\n",
    "\"\"\"\n",
    "DON'T MODIFY ANYTHING IN THIS CELL THAT IS BELOW THIS LINE\n",
    "\"\"\"\n",
    "tests.test_normalize(normalize)"
   ]
  },
  {
   "cell_type": "markdown",
   "metadata": {},
   "source": [
    "### One-hot encode\n",
    "Just like the previous code cell, you'll be implementing a function for preprocessing.  This time, you'll implement the `one_hot_encode` function. The input, `x`, are a list of labels.  Implement the function to return the list of labels as One-Hot encoded Numpy array.  The possible values for labels are 0 to 9. The one-hot encoding function should return the same encoding for each value between each call to `one_hot_encode`.  Make sure to save the map of encodings outside the function.\n",
    "\n",
    "Hint: Don't reinvent the wheel."
   ]
  },
  {
   "cell_type": "code",
   "execution_count": 38,
   "metadata": {},
   "outputs": [
    {
     "name": "stdout",
     "output_type": "stream",
     "text": [
      "Tests Passed\n"
     ]
    }
   ],
   "source": [
    "labels=[0,1,2,3,4,5,6,7,8,9]\n",
    "labels=np.array(labels).reshape(-1,1)\n",
    "def one_hot_encode(x):\n",
    "    \"\"\"\n",
    "    One hot encode a list of sample labels. Return a one-hot encoded vector for each label.\n",
    "    : x: List of sample Labels\n",
    "    : return: Numpy array of one-hot encoded labels\n",
    "    \"\"\"\n",
    "    # TODO: Implement Function\n",
    "    from sklearn.preprocessing import OneHotEncoder as ohe\n",
    "    x=np.array(x).reshape(-1,1)\n",
    "    encoder=ohe()\n",
    "    encoder.fit(labels)\n",
    "    return encoder.transform(x).toarray()\n",
    "\n",
    "    \n",
    "   \n",
    "    \n",
    "\n",
    "\n",
    "\"\"\"\n",
    "DON'T MODIFY ANYTHING IN THIS CELL THAT IS BELOW THIS LINE\n",
    "\"\"\"\n",
    "tests.test_one_hot_encode(one_hot_encode)"
   ]
  },
  {
   "cell_type": "markdown",
   "metadata": {},
   "source": [
    "### Randomize Data\n",
    "As you saw from exploring the data above, the order of the samples are randomized.  It doesn't hurt to randomize it again, but you don't need to for this dataset."
   ]
  },
  {
   "cell_type": "markdown",
   "metadata": {},
   "source": [
    "## Preprocess all the data and save it\n",
    "Running the code cell below will preprocess all the CIFAR-10 data and save it to file. The code below also uses 10% of the training data for validation."
   ]
  },
  {
   "cell_type": "code",
   "execution_count": 39,
   "metadata": {
    "collapsed": true
   },
   "outputs": [],
   "source": [
    "\"\"\"\n",
    "DON'T MODIFY ANYTHING IN THIS CELL\n",
    "\"\"\"\n",
    "# Preprocess Training, Validation, and Testing Data\n",
    "helper.preprocess_and_save_data(cifar10_dataset_folder_path, normalize, one_hot_encode)"
   ]
  },
  {
   "cell_type": "markdown",
   "metadata": {},
   "source": [
    "# Check Point\n",
    "This is your first checkpoint.  If you ever decide to come back to this notebook or have to restart the notebook, you can start from here.  The preprocessed data has been saved to disk."
   ]
  },
  {
   "cell_type": "code",
   "execution_count": 40,
   "metadata": {
    "collapsed": true
   },
   "outputs": [],
   "source": [
    "\"\"\"\n",
    "DON'T MODIFY ANYTHING IN THIS CELL\n",
    "\"\"\"\n",
    "import pickle\n",
    "import problem_unittests as tests\n",
    "import helper\n",
    "\n",
    "# Load the Preprocessed Validation data\n",
    "valid_features, valid_labels = pickle.load(open('preprocess_validation.p', mode='rb'))"
   ]
  },
  {
   "cell_type": "markdown",
   "metadata": {},
   "source": [
    "## Build the network\n",
    "For the neural network, you'll build each layer into a function.  Most of the code you've seen has been outside of functions. To test your code more thoroughly, we require that you put each layer in a function.  This allows us to give you better feedback and test for simple mistakes using our unittests before you submit your project.\n",
    "\n",
    ">**Note:** If you're finding it hard to dedicate enough time for this course each week, we've provided a small shortcut to this part of the project. In the next couple of problems, you'll have the option to use classes from the [TensorFlow Layers](https://www.tensorflow.org/api_docs/python/tf/layers) or [TensorFlow Layers (contrib)](https://www.tensorflow.org/api_guides/python/contrib.layers) packages to build each layer, except the layers you build in the \"Convolutional and Max Pooling Layer\" section.  TF Layers is similar to Keras's and TFLearn's abstraction to layers, so it's easy to pickup.\n",
    "\n",
    ">However, if you would like to get the most out of this course, try to solve all the problems _without_ using anything from the TF Layers packages. You **can** still use classes from other packages that happen to have the same name as ones you find in TF Layers! For example, instead of using the TF Layers version of the `conv2d` class, [tf.layers.conv2d](https://www.tensorflow.org/api_docs/python/tf/layers/conv2d), you would want to use the TF Neural Network version of `conv2d`, [tf.nn.conv2d](https://www.tensorflow.org/api_docs/python/tf/nn/conv2d). \n",
    "\n",
    "Let's begin!\n",
    "\n",
    "### Input\n",
    "The neural network needs to read the image data, one-hot encoded labels, and dropout keep probability. Implement the following functions\n",
    "* Implement `neural_net_image_input`\n",
    " * Return a [TF Placeholder](https://www.tensorflow.org/api_docs/python/tf/placeholder)\n",
    " * Set the shape using `image_shape` with batch size set to `None`.\n",
    " * Name the TensorFlow placeholder \"x\" using the TensorFlow `name` parameter in the [TF Placeholder](https://www.tensorflow.org/api_docs/python/tf/placeholder).\n",
    "* Implement `neural_net_label_input`\n",
    " * Return a [TF Placeholder](https://www.tensorflow.org/api_docs/python/tf/placeholder)\n",
    " * Set the shape using `n_classes` with batch size set to `None`.\n",
    " * Name the TensorFlow placeholder \"y\" using the TensorFlow `name` parameter in the [TF Placeholder](https://www.tensorflow.org/api_docs/python/tf/placeholder).\n",
    "* Implement `neural_net_keep_prob_input`\n",
    " * Return a [TF Placeholder](https://www.tensorflow.org/api_docs/python/tf/placeholder) for dropout keep probability.\n",
    " * Name the TensorFlow placeholder \"keep_prob\" using the TensorFlow `name` parameter in the [TF Placeholder](https://www.tensorflow.org/api_docs/python/tf/placeholder).\n",
    "\n",
    "These names will be used at the end of the project to load your saved model.\n",
    "\n",
    "Note: `None` for shapes in TensorFlow allow for a dynamic size."
   ]
  },
  {
   "cell_type": "code",
   "execution_count": 41,
   "metadata": {},
   "outputs": [
    {
     "name": "stdout",
     "output_type": "stream",
     "text": [
      "Image Input Tests Passed.\n",
      "Label Input Tests Passed.\n",
      "Keep Prob Tests Passed.\n"
     ]
    }
   ],
   "source": [
    "import tensorflow as tf\n",
    "\n",
    "def neural_net_image_input(image_shape):\n",
    "    \"\"\"\n",
    "    Return a Tensor for a bach of image input\n",
    "    : image_shape: Shape of the images\n",
    "    : return: Tensor for image input.\n",
    "    \"\"\"\n",
    "    # TODO: Implement Function\n",
    "     \n",
    "    return tf.placeholder(tf.float32,shape=[None,image_shape[0],image_shape[1],image_shape[2]],name='x')\n",
    "\n",
    "\n",
    "def neural_net_label_input(n_classes):\n",
    "    \"\"\"\n",
    "    Return a Tensor for a batch of label input\n",
    "    : n_classes: Number of classes\n",
    "    : return: Tensor for label input.\n",
    "    \"\"\"\n",
    "    # TODO: Implement Function\n",
    "    return tf.placeholder(tf.float32,shape=[None,n_classes],name='y')\n",
    "\n",
    "\n",
    "def neural_net_keep_prob_input():\n",
    "    \"\"\"\n",
    "    Return a Tensor for keep probability\n",
    "    : return: Tensor for keep probability.\n",
    "    \"\"\"\n",
    "    # TODO: Implement Function\n",
    "    return tf.placeholder(tf.float32,name='keep_prob')\n",
    "\n",
    "\n",
    "\"\"\"\n",
    "DON'T MODIFY ANYTHING IN THIS CELL THAT IS BELOW THIS LINE\n",
    "\"\"\"\n",
    "tf.reset_default_graph()\n",
    "tests.test_nn_image_inputs(neural_net_image_input)\n",
    "tests.test_nn_label_inputs(neural_net_label_input)\n",
    "tests.test_nn_keep_prob_inputs(neural_net_keep_prob_input)"
   ]
  },
  {
   "cell_type": "markdown",
   "metadata": {},
   "source": [
    "### Convolution and Max Pooling Layer\n",
    "Convolution layers have a lot of success with images. For this code cell, you should implement the function `conv2d_maxpool` to apply convolution then max pooling:\n",
    "* Create the weight and bias using `conv_ksize`, `conv_num_outputs` and the shape of `x_tensor`.\n",
    "* Apply a convolution to `x_tensor` using weight and `conv_strides`.\n",
    " * We recommend you use same padding, but you're welcome to use any padding.\n",
    "* Add bias\n",
    "* Add a nonlinear activation to the convolution.\n",
    "* Apply Max Pooling using `pool_ksize` and `pool_strides`.\n",
    " * We recommend you use same padding, but you're welcome to use any padding.\n",
    "\n",
    "**Note:** You **can't** use [TensorFlow Layers](https://www.tensorflow.org/api_docs/python/tf/layers) or [TensorFlow Layers (contrib)](https://www.tensorflow.org/api_guides/python/contrib.layers) for **this** layer, but you can still use TensorFlow's [Neural Network](https://www.tensorflow.org/api_docs/python/tf/nn) package. You may still use the shortcut option for all the **other** layers."
   ]
  },
  {
   "cell_type": "code",
   "execution_count": 42,
   "metadata": {},
   "outputs": [
    {
     "name": "stdout",
     "output_type": "stream",
     "text": [
      "Tests Passed\n"
     ]
    }
   ],
   "source": [
    "def conv2d_maxpool(x_tensor, conv_num_outputs, conv_ksize, conv_strides, pool_ksize, pool_strides):\n",
    "    \"\"\"\n",
    "    Apply convolution then max pooling to x_tensor\n",
    "    :param x_tensor: TensorFlow Tensor\n",
    "    :param conv_num_outputs: Number of outputs for the convolutional layer\n",
    "    :param conv_ksize: kernal size 2-D Tuple for the convolutional layer\n",
    "    :param conv_strides: Stride 2-D Tuple for convolution\n",
    "    :param pool_ksize: kernal size 2-D Tuple for pool\n",
    "    :param pool_strides: Stride 2-D Tuple for pool\n",
    "    : return: A tensor that represents convolution and max pooling of x_tensor\n",
    "    \"\"\"\n",
    "    # TODO: Implement Function\n",
    "    \n",
    "    F_W=tf.Variable(tf.truncated_normal([conv_ksize[0],conv_ksize[1],tf.to_int32(x_tensor.shape[3]),conv_num_outputs],\\\n",
    "                                        stddev=tf.to_float(tf.sqrt(2/(conv_ksize[0]*conv_ksize[1]*tf.to_int32(x_tensor.shape[3]))))))\n",
    "    bias=tf.Variable(tf.zeros(conv_num_outputs))\n",
    "    conv_layer=tf.nn.conv2d(x_tensor,F_W,strides=[1,conv_strides[0],conv_strides[1],1],padding='SAME')\n",
    "    conv_layer=tf.nn.bias_add(conv_layer,bias)\n",
    "    conv_layer=tf.nn.relu(conv_layer)\n",
    "    output=tf.nn.max_pool(conv_layer,ksize=[1,pool_ksize[0],pool_ksize[1],1],strides=[1,pool_strides[0],pool_strides[1],1],padding='SAME')\n",
    "    \n",
    "    \n",
    "    return output\n",
    "\n",
    "\n",
    "\"\"\"\n",
    "DON'T MODIFY ANYTHING IN THIS CELL THAT IS BELOW THIS LINE\n",
    "\"\"\"\n",
    "tests.test_con_pool(conv2d_maxpool)"
   ]
  },
  {
   "cell_type": "markdown",
   "metadata": {},
   "source": [
    "### Flatten Layer\n",
    "Implement the `flatten` function to change the dimension of `x_tensor` from a 4-D tensor to a 2-D tensor.  The output should be the shape (*Batch Size*, *Flattened Image Size*). Shortcut option: you can use classes from the [TensorFlow Layers](https://www.tensorflow.org/api_docs/python/tf/layers) or [TensorFlow Layers (contrib)](https://www.tensorflow.org/api_guides/python/contrib.layers) packages for this layer. For more of a challenge, only use other TensorFlow packages."
   ]
  },
  {
   "cell_type": "code",
   "execution_count": 43,
   "metadata": {},
   "outputs": [
    {
     "name": "stdout",
     "output_type": "stream",
     "text": [
      "Tests Passed\n"
     ]
    }
   ],
   "source": [
    "def flatten(x_tensor):\n",
    "    \"\"\"\n",
    "    Flatten x_tensor to (Batch Size, Flattened Image Size)\n",
    "    : x_tensor: A tensor of size (Batch Size, ...), where ... are the image dimensions.\n",
    "    : return: A tensor of size (Batch Size, Flattened Image Size).\n",
    "    \"\"\"\n",
    "    # TODO: Implement Function\n",
    "   \n",
    "    return tf.reshape(x_tensor,[-1,tf.to_int32(x_tensor.shape[1]*x_tensor.shape[2]*x_tensor.shape[3])])\n",
    "\n",
    "\n",
    "\"\"\"\n",
    "DON'T MODIFY ANYTHING IN THIS CELL THAT IS BELOW THIS LINE\n",
    "\"\"\"\n",
    "tests.test_flatten(flatten)"
   ]
  },
  {
   "cell_type": "markdown",
   "metadata": {},
   "source": [
    "### Fully-Connected Layer\n",
    "Implement the `fully_conn` function to apply a fully connected layer to `x_tensor` with the shape (*Batch Size*, *num_outputs*). Shortcut option: you can use classes from the [TensorFlow Layers](https://www.tensorflow.org/api_docs/python/tf/layers) or [TensorFlow Layers (contrib)](https://www.tensorflow.org/api_guides/python/contrib.layers) packages for this layer. For more of a challenge, only use other TensorFlow packages."
   ]
  },
  {
   "cell_type": "code",
   "execution_count": 44,
   "metadata": {},
   "outputs": [
    {
     "name": "stdout",
     "output_type": "stream",
     "text": [
      "Tests Passed\n"
     ]
    }
   ],
   "source": [
    "def fully_conn(x_tensor, num_outputs):\n",
    "    \"\"\"\n",
    "    Apply a fully connected layer to x_tensor using weight and bias\n",
    "    : x_tensor: A 2-D tensor where the first dimension is batch size.\n",
    "    : num_outputs: The number of output that the new tensor should be.\n",
    "    : return: A 2-D tensor where the second dimension is num_outputs.\n",
    "    \"\"\"\n",
    "    # TODO: Implement Function\n",
    "    weights=tf.Variable(tf.truncated_normal([tf.to_int32(x_tensor.shape[1]),num_outputs],\\\n",
    "                                            stddev=tf.to_float(tf.sqrt(2/(tf.to_int32(x_tensor.shape[1]))))))\n",
    "    bias=tf.Variable(tf.zeros(num_outputs))\n",
    "    logits=tf.add(tf.matmul(x_tensor,weights),bias)\n",
    "    fully_conn_out=tf.nn.relu(logits)\n",
    "    \n",
    "    return fully_conn_out \n",
    "\n",
    "\n",
    "\"\"\"\n",
    "DON'T MODIFY ANYTHING IN THIS CELL THAT IS BELOW THIS LINE\n",
    "\"\"\"\n",
    "tests.test_fully_conn(fully_conn)"
   ]
  },
  {
   "cell_type": "markdown",
   "metadata": {},
   "source": [
    "### Output Layer\n",
    "Implement the `output` function to apply a fully connected layer to `x_tensor` with the shape (*Batch Size*, *num_outputs*). Shortcut option: you can use classes from the [TensorFlow Layers](https://www.tensorflow.org/api_docs/python/tf/layers) or [TensorFlow Layers (contrib)](https://www.tensorflow.org/api_guides/python/contrib.layers) packages for this layer. For more of a challenge, only use other TensorFlow packages.\n",
    "\n",
    "**Note:** Activation, softmax, or cross entropy should **not** be applied to this."
   ]
  },
  {
   "cell_type": "code",
   "execution_count": 45,
   "metadata": {},
   "outputs": [
    {
     "name": "stdout",
     "output_type": "stream",
     "text": [
      "Tests Passed\n"
     ]
    }
   ],
   "source": [
    "def output(x_tensor, num_outputs):\n",
    "    \"\"\"\n",
    "    Apply a output layer to x_tensor using weight and bias\n",
    "    : x_tensor: A 2-D tensor where the first dimension is batch size.\n",
    "    : num_outputs: The number of output that the new tensor should be.\n",
    "    : return: A 2-D tensor where the second dimension is num_outputs.\n",
    "    \"\"\"\n",
    "    # TODO: Implement Function\n",
    "    weights=tf.Variable(tf.truncated_normal([tf.to_int32(x_tensor.shape[1]),num_outputs],\\\n",
    "                                            stddev=tf.to_float(tf.sqrt(2/(tf.to_int32(x_tensor.shape[1]))))))\n",
    "    bias=tf.Variable(tf.zeros(num_outputs))\n",
    "    logits=tf.add(tf.matmul(x_tensor,weights),bias)\n",
    "    return logits\n",
    "\n",
    "\n",
    "\"\"\"\n",
    "DON'T MODIFY ANYTHING IN THIS CELL THAT IS BELOW THIS LINE\n",
    "\"\"\"\n",
    "tests.test_output(output)"
   ]
  },
  {
   "cell_type": "markdown",
   "metadata": {},
   "source": [
    "### Create Convolutional Model\n",
    "Implement the function `conv_net` to create a convolutional neural network model. The function takes in a batch of images, `x`, and outputs logits.  Use the layers you created above to create this model:\n",
    "\n",
    "* Apply 1, 2, or 3 Convolution and Max Pool layers\n",
    "* Apply a Flatten Layer\n",
    "* Apply 1, 2, or 3 Fully Connected Layers\n",
    "* Apply an Output Layer\n",
    "* Return the output\n",
    "* Apply [TensorFlow's Dropout](https://www.tensorflow.org/api_docs/python/tf/nn/dropout) to one or more layers in the model using `keep_prob`. "
   ]
  },
  {
   "cell_type": "code",
   "execution_count": 46,
   "metadata": {},
   "outputs": [
    {
     "name": "stdout",
     "output_type": "stream",
     "text": [
      "Neural Network Built!\n"
     ]
    }
   ],
   "source": [
    "def conv_net(x, keep_prob):\n",
    "    \"\"\"\n",
    "    Create a convolutional neural network model\n",
    "    : x: Placeholder tensor that holds image data.\n",
    "    : keep_prob: Placeholder tensor that hold dropout keep probability.\n",
    "    : return: Tensor that represents logits\n",
    "    \"\"\"\n",
    "    # TODO: Apply 1, 2, or 3 Convolution and Max Pool layers\n",
    "    #    Play around with different number of outputs, kernel size and stride\n",
    "    # Function Definition from Above:\n",
    "    #    conv2d_maxpool(x_tensor, conv_num_outputs, conv_ksize, conv_strides, pool_ksize, pool_strides)\n",
    "    conv1_out=conv2d_maxpool(x,32,[3,3],[1,1],[2,2],[2,2])\n",
    "    conv2_out=conv2d_maxpool(conv1_out,64,[3,3],[1,1],[2,2],[2,2])\n",
    "    conv3_out=conv2d_maxpool(conv2_out,128,[3,3],[1,1],[2,2],[2,2])\n",
    "    \n",
    "    \n",
    "\n",
    "    # TODO: Apply a Flatten Layer\n",
    "    # Function Definition from Above:\n",
    "    #   flatten(x_tensor)\n",
    "    flat=flatten(conv3_out)\n",
    "\n",
    "    # TODO: Apply 1, 2, or 3 Fully Connected Layers\n",
    "    #    Play around with different number of outputs\n",
    "    # Function Definition from Above:\n",
    "    #   fully_conn(x_tensor, num_outputs)\n",
    "    lay4_out=fully_conn(flat,512)\n",
    "    lay4_out=tf.nn.dropout(lay4_out,keep_prob)\n",
    "    lay5_out=fully_conn(lay4_out,256)\n",
    "    lay5_out=tf.nn.dropout(lay5_out,keep_prob)\n",
    "    lay6_out=fully_conn(lay5_out,128)\n",
    "    lay6_out=tf.nn.dropout(lay6_out,keep_prob)\n",
    "    \n",
    "    \n",
    "    \n",
    "    # TODO: Apply an Output Layer\n",
    "    #    Set this to the number of classes\n",
    "    # Function Definition from Above:\n",
    "    #   output(x_tensor, num_outputs)\n",
    "    out=output(lay6_out,10)\n",
    "    \n",
    "    # TODO: return output\n",
    "    return out\n",
    "\n",
    "\n",
    "\"\"\"\n",
    "DON'T MODIFY ANYTHING IN THIS CELL THAT IS BELOW THIS LINE\n",
    "\"\"\"\n",
    "\n",
    "##############################\n",
    "## Build the Neural Network ##\n",
    "##############################\n",
    "\n",
    "# Remove previous weights, bias, inputs, etc..\n",
    "tf.reset_default_graph()\n",
    "\n",
    "# Inputs\n",
    "x = neural_net_image_input((32, 32, 3))\n",
    "y = neural_net_label_input(10)\n",
    "keep_prob = neural_net_keep_prob_input()\n",
    "\n",
    "# Model\n",
    "logits = conv_net(x, keep_prob)\n",
    "\n",
    "# Name logits Tensor, so that is can be loaded from disk after training\n",
    "logits = tf.identity(logits, name='logits')\n",
    "\n",
    "# Loss and Optimizer\n",
    "cost = tf.reduce_mean(tf.nn.softmax_cross_entropy_with_logits(logits=logits, labels=y))\n",
    "optimizer = tf.train.AdamOptimizer().minimize(cost)\n",
    "\n",
    "# Accuracy\n",
    "correct_pred = tf.equal(tf.argmax(logits, 1), tf.argmax(y, 1))\n",
    "accuracy = tf.reduce_mean(tf.cast(correct_pred, tf.float32), name='accuracy')\n",
    "\n",
    "tests.test_conv_net(conv_net)"
   ]
  },
  {
   "cell_type": "markdown",
   "metadata": {},
   "source": [
    "## Train the Neural Network\n",
    "### Single Optimization\n",
    "Implement the function `train_neural_network` to do a single optimization.  The optimization should use `optimizer` to optimize in `session` with a `feed_dict` of the following:\n",
    "* `x` for image input\n",
    "* `y` for labels\n",
    "* `keep_prob` for keep probability for dropout\n",
    "\n",
    "This function will be called for each batch, so `tf.global_variables_initializer()` has already been called.\n",
    "\n",
    "Note: Nothing needs to be returned. This function is only optimizing the neural network."
   ]
  },
  {
   "cell_type": "code",
   "execution_count": 47,
   "metadata": {},
   "outputs": [
    {
     "name": "stdout",
     "output_type": "stream",
     "text": [
      "Tests Passed\n"
     ]
    }
   ],
   "source": [
    "def train_neural_network(session, optimizer, keep_probability, feature_batch, label_batch):\n",
    "    \"\"\"\n",
    "    Optimize the session on a batch of images and labels\n",
    "    : session: Current TensorFlow session\n",
    "    : optimizer: TensorFlow optimizer function\n",
    "    : keep_probability: keep probability\n",
    "    : feature_batch: Batch of Numpy image data\n",
    "    : label_batch: Batch of Numpy label data\n",
    "    \"\"\"\n",
    "    # TODO: Implement Function\n",
    "    session.run(optimizer,feed_dict={x:feature_batch,y:label_batch,keep_prob:keep_probability})\n",
    "    pass\n",
    "\n",
    "\n",
    "\"\"\"\n",
    "DON'T MODIFY ANYTHING IN THIS CELL THAT IS BELOW THIS LINE\n",
    "\"\"\"\n",
    "tests.test_train_nn(train_neural_network)"
   ]
  },
  {
   "cell_type": "markdown",
   "metadata": {},
   "source": [
    "### Show Stats\n",
    "Implement the function `print_stats` to print loss and validation accuracy.  Use the global variables `valid_features` and `valid_labels` to calculate validation accuracy.  Use a keep probability of `1.0` to calculate the loss and validation accuracy."
   ]
  },
  {
   "cell_type": "code",
   "execution_count": 48,
   "metadata": {
    "collapsed": true
   },
   "outputs": [],
   "source": [
    "def print_stats(session, feature_batch, label_batch, cost, accuracy):\n",
    "    \"\"\"\n",
    "    Print information about loss and validation accuracy\n",
    "    : session: Current TensorFlow session\n",
    "    : feature_batch: Batch of Numpy image data\n",
    "    : label_batch: Batch of Numpy label data\n",
    "    : cost: TensorFlow cost function\n",
    "    : accuracy: TensorFlow accuracy function\n",
    "    \"\"\"\n",
    "    # TODO: Implement Function\n",
    "    loss=session.run(cost,feed_dict={x:feature_batch,y:label_batch,keep_prob:1.0})\n",
    "    valid_accu=session.run(accuracy,feed_dict={x:valid_features,y:valid_labels,keep_prob:1.0})\n",
    "    print( 'Loss: {} Valid Accuracy: {}'.format(\n",
    "        loss,\n",
    "        valid_accu))\n",
    "    pass"
   ]
  },
  {
   "cell_type": "markdown",
   "metadata": {},
   "source": [
    "### Hyperparameters\n",
    "Tune the following parameters:\n",
    "* Set `epochs` to the number of iterations until the network stops learning or start overfitting\n",
    "* Set `batch_size` to the highest number that your machine has memory for.  Most people set them to common sizes of memory:\n",
    " * 64\n",
    " * 128\n",
    " * 256\n",
    " * ...\n",
    "* Set `keep_probability` to the probability of keeping a node using dropout"
   ]
  },
  {
   "cell_type": "code",
   "execution_count": 51,
   "metadata": {
    "collapsed": true
   },
   "outputs": [],
   "source": [
    "# TODO: Tune Parameters\n",
    "epochs = 50\n",
    "batch_size = 256\n",
    "keep_probability = 0.90"
   ]
  },
  {
   "cell_type": "markdown",
   "metadata": {},
   "source": [
    "### Train on a Single CIFAR-10 Batch\n",
    "Instead of training the neural network on all the CIFAR-10 batches of data, let's use a single batch. This should save time while you iterate on the model to get a better accuracy.  Once the final validation accuracy is 50% or greater, run the model on all the data in the next section."
   ]
  },
  {
   "cell_type": "code",
   "execution_count": 52,
   "metadata": {},
   "outputs": [
    {
     "name": "stdout",
     "output_type": "stream",
     "text": [
      "Checking the Training on a Single Batch...\n",
      "Epoch  1, CIFAR-10 Batch 1:  Loss: 2.0667808055877686 Valid Accuracy: 0.33340001106262207\n",
      "Epoch  2, CIFAR-10 Batch 1:  Loss: 1.5962687730789185 Valid Accuracy: 0.43719998002052307\n",
      "Epoch  3, CIFAR-10 Batch 1:  Loss: 1.2590270042419434 Valid Accuracy: 0.4681999385356903\n",
      "Epoch  4, CIFAR-10 Batch 1:  Loss: 1.0134506225585938 Valid Accuracy: 0.49939996004104614\n",
      "Epoch  5, CIFAR-10 Batch 1:  Loss: 0.7984296083450317 Valid Accuracy: 0.4907999634742737\n",
      "Epoch  6, CIFAR-10 Batch 1:  Loss: 0.614861011505127 Valid Accuracy: 0.5503999590873718\n",
      "Epoch  7, CIFAR-10 Batch 1:  Loss: 0.43940308690071106 Valid Accuracy: 0.5757999420166016\n",
      "Epoch  8, CIFAR-10 Batch 1:  Loss: 0.32387587428092957 Valid Accuracy: 0.5491999387741089\n",
      "Epoch  9, CIFAR-10 Batch 1:  Loss: 0.252562940120697 Valid Accuracy: 0.5827999114990234\n",
      "Epoch 10, CIFAR-10 Batch 1:  Loss: 0.16002225875854492 Valid Accuracy: 0.6067999601364136\n",
      "Epoch 11, CIFAR-10 Batch 1:  Loss: 0.10663754492998123 Valid Accuracy: 0.5873998999595642\n",
      "Epoch 12, CIFAR-10 Batch 1:  Loss: 0.099412702023983 Valid Accuracy: 0.595599889755249\n",
      "Epoch 13, CIFAR-10 Batch 1:  Loss: 0.04564215987920761 Valid Accuracy: 0.5793999433517456\n",
      "Epoch 14, CIFAR-10 Batch 1:  Loss: 0.056130971759557724 Valid Accuracy: 0.5605999827384949\n",
      "Epoch 15, CIFAR-10 Batch 1:  Loss: 0.04753249138593674 Valid Accuracy: 0.5601999759674072\n",
      "Epoch 16, CIFAR-10 Batch 1:  Loss: 0.03860853984951973 Valid Accuracy: 0.5771999359130859\n",
      "Epoch 17, CIFAR-10 Batch 1:  Loss: 0.029170140624046326 Valid Accuracy: 0.6039999127388\n",
      "Epoch 18, CIFAR-10 Batch 1:  Loss: 0.042229246348142624 Valid Accuracy: 0.5791999101638794\n",
      "Epoch 19, CIFAR-10 Batch 1:  Loss: 0.009006362408399582 Valid Accuracy: 0.587399959564209\n",
      "Epoch 20, CIFAR-10 Batch 1:  Loss: 0.03571023419499397 Valid Accuracy: 0.5579999089241028\n",
      "Epoch 21, CIFAR-10 Batch 1:  Loss: 0.004185829311609268 Valid Accuracy: 0.5993999242782593\n",
      "Epoch 22, CIFAR-10 Batch 1:  Loss: 0.0023767901584506035 Valid Accuracy: 0.6083999276161194\n",
      "Epoch 23, CIFAR-10 Batch 1:  Loss: 0.005372730083763599 Valid Accuracy: 0.6009998917579651\n",
      "Epoch 24, CIFAR-10 Batch 1:  Loss: 0.0019771885126829147 Valid Accuracy: 0.5925998687744141\n",
      "Epoch 25, CIFAR-10 Batch 1:  Loss: 0.00039032191853038967 Valid Accuracy: 0.6143999099731445\n",
      "Epoch 26, CIFAR-10 Batch 1:  Loss: 0.0003496328426990658 Valid Accuracy: 0.600399911403656\n",
      "Epoch 27, CIFAR-10 Batch 1:  Loss: 0.0005358634516596794 Valid Accuracy: 0.5937999486923218\n",
      "Epoch 28, CIFAR-10 Batch 1:  Loss: 0.0005043883575126529 Valid Accuracy: 0.6109999418258667\n",
      "Epoch 29, CIFAR-10 Batch 1:  Loss: 0.00048242334742099047 Valid Accuracy: 0.5977998971939087\n",
      "Epoch 30, CIFAR-10 Batch 1:  Loss: 0.001105642062611878 Valid Accuracy: 0.5999999046325684\n",
      "Epoch 31, CIFAR-10 Batch 1:  Loss: 0.00027153053088113666 Valid Accuracy: 0.6267998814582825\n",
      "Epoch 32, CIFAR-10 Batch 1:  Loss: 0.0012248377315700054 Valid Accuracy: 0.6177999377250671\n",
      "Epoch 33, CIFAR-10 Batch 1:  Loss: 0.00043306819861754775 Valid Accuracy: 0.608799934387207\n",
      "Epoch 34, CIFAR-10 Batch 1:  Loss: 0.0003244362014811486 Valid Accuracy: 0.6185998916625977\n",
      "Epoch 35, CIFAR-10 Batch 1:  Loss: 0.00018139580788556486 Valid Accuracy: 0.6141998767852783\n",
      "Epoch 36, CIFAR-10 Batch 1:  Loss: 5.324940866557881e-05 Valid Accuracy: 0.6195998787879944\n",
      "Epoch 37, CIFAR-10 Batch 1:  Loss: 2.8044101782143116e-05 Valid Accuracy: 0.6101998686790466\n",
      "Epoch 38, CIFAR-10 Batch 1:  Loss: 6.84701299178414e-05 Valid Accuracy: 0.6243999004364014\n",
      "Epoch 39, CIFAR-10 Batch 1:  Loss: 0.00022894234280101955 Valid Accuracy: 0.6117998957633972\n",
      "Epoch 40, CIFAR-10 Batch 1:  Loss: 0.0008811934385448694 Valid Accuracy: 0.6029999256134033\n",
      "Epoch 41, CIFAR-10 Batch 1:  Loss: 0.0003480948507785797 Valid Accuracy: 0.6121999025344849\n",
      "Epoch 42, CIFAR-10 Batch 1:  Loss: 0.000648574554361403 Valid Accuracy: 0.611599862575531\n",
      "Epoch 43, CIFAR-10 Batch 1:  Loss: 8.130802598316222e-05 Valid Accuracy: 0.6099998950958252\n",
      "Epoch 44, CIFAR-10 Batch 1:  Loss: 0.0004449223051778972 Valid Accuracy: 0.6139999032020569\n",
      "Epoch 45, CIFAR-10 Batch 1:  Loss: 5.437474464997649e-05 Valid Accuracy: 0.6037998795509338\n",
      "Epoch 46, CIFAR-10 Batch 1:  Loss: 2.2757649276172742e-05 Valid Accuracy: 0.6195999383926392\n",
      "Epoch 47, CIFAR-10 Batch 1:  Loss: 2.4256089091068134e-05 Valid Accuracy: 0.6083998680114746\n",
      "Epoch 48, CIFAR-10 Batch 1:  Loss: 0.003949868027120829 Valid Accuracy: 0.5893999338150024\n",
      "Epoch 49, CIFAR-10 Batch 1:  Loss: 0.00019039795733988285 Valid Accuracy: 0.6101998686790466\n",
      "Epoch 50, CIFAR-10 Batch 1:  Loss: 8.946632442530245e-05 Valid Accuracy: 0.6103999018669128\n"
     ]
    }
   ],
   "source": [
    "\"\"\"\n",
    "DON'T MODIFY ANYTHING IN THIS CELL\n",
    "\"\"\"\n",
    "print('Checking the Training on a Single Batch...')\n",
    "with tf.Session() as sess:\n",
    "    # Initializing the variables\n",
    "    sess.run(tf.global_variables_initializer())\n",
    "    \n",
    "    # Training cycle\n",
    "    for epoch in range(epochs):\n",
    "        batch_i = 1\n",
    "        for batch_features, batch_labels in helper.load_preprocess_training_batch(batch_i, batch_size):\n",
    "            train_neural_network(sess, optimizer, keep_probability, batch_features, batch_labels)\n",
    "        print('Epoch {:>2}, CIFAR-10 Batch {}:  '.format(epoch + 1, batch_i), end='')\n",
    "        print_stats(sess, batch_features, batch_labels, cost, accuracy)"
   ]
  },
  {
   "cell_type": "markdown",
   "metadata": {},
   "source": [
    "### Fully Train the Model\n",
    "Now that you got a good accuracy with a single CIFAR-10 batch, try it with all five batches."
   ]
  },
  {
   "cell_type": "code",
   "execution_count": 53,
   "metadata": {},
   "outputs": [
    {
     "name": "stdout",
     "output_type": "stream",
     "text": [
      "Training...\n",
      "Epoch  1, CIFAR-10 Batch 1:  Loss: 2.0243756771087646 Valid Accuracy: 0.3240000009536743\n",
      "Epoch  1, CIFAR-10 Batch 2:  Loss: 1.5393919944763184 Valid Accuracy: 0.366599977016449\n",
      "Epoch  1, CIFAR-10 Batch 3:  Loss: 1.1522451639175415 Valid Accuracy: 0.478799968957901\n",
      "Epoch  1, CIFAR-10 Batch 4:  Loss: 1.3863513469696045 Valid Accuracy: 0.48659995198249817\n",
      "Epoch  1, CIFAR-10 Batch 5:  Loss: 1.2373242378234863 Valid Accuracy: 0.50819993019104\n",
      "Epoch  2, CIFAR-10 Batch 1:  Loss: 1.233422875404358 Valid Accuracy: 0.5185999870300293\n",
      "Epoch  2, CIFAR-10 Batch 2:  Loss: 1.0480057001113892 Valid Accuracy: 0.5463999509811401\n",
      "Epoch  2, CIFAR-10 Batch 3:  Loss: 0.7315528392791748 Valid Accuracy: 0.5493999719619751\n",
      "Epoch  2, CIFAR-10 Batch 4:  Loss: 0.854441225528717 Valid Accuracy: 0.603399932384491\n",
      "Epoch  2, CIFAR-10 Batch 5:  Loss: 0.714611291885376 Valid Accuracy: 0.6171998977661133\n",
      "Epoch  3, CIFAR-10 Batch 1:  Loss: 0.8209202289581299 Valid Accuracy: 0.6239998936653137\n",
      "Epoch  3, CIFAR-10 Batch 2:  Loss: 0.5377240777015686 Valid Accuracy: 0.6313998699188232\n",
      "Epoch  3, CIFAR-10 Batch 3:  Loss: 0.4678201377391815 Valid Accuracy: 0.6349999308586121\n",
      "Epoch  3, CIFAR-10 Batch 4:  Loss: 0.5390913486480713 Valid Accuracy: 0.6517998576164246\n",
      "Epoch  3, CIFAR-10 Batch 5:  Loss: 0.3800126314163208 Valid Accuracy: 0.6637999415397644\n",
      "Epoch  4, CIFAR-10 Batch 1:  Loss: 0.4842226505279541 Valid Accuracy: 0.6631999015808105\n",
      "Epoch  4, CIFAR-10 Batch 2:  Loss: 0.32299813628196716 Valid Accuracy: 0.6627999544143677\n",
      "Epoch  4, CIFAR-10 Batch 3:  Loss: 0.24362879991531372 Valid Accuracy: 0.6639999151229858\n",
      "Epoch  4, CIFAR-10 Batch 4:  Loss: 0.3217957019805908 Valid Accuracy: 0.6553999185562134\n",
      "Epoch  4, CIFAR-10 Batch 5:  Loss: 0.21792732179164886 Valid Accuracy: 0.6907998919487\n",
      "Epoch  5, CIFAR-10 Batch 1:  Loss: 0.32557499408721924 Valid Accuracy: 0.675399899482727\n",
      "Epoch  5, CIFAR-10 Batch 2:  Loss: 0.1931597888469696 Valid Accuracy: 0.6703999042510986\n",
      "Epoch  5, CIFAR-10 Batch 3:  Loss: 0.1581946760416031 Valid Accuracy: 0.7005998492240906\n",
      "Epoch  5, CIFAR-10 Batch 4:  Loss: 0.20809662342071533 Valid Accuracy: 0.6945998668670654\n",
      "Epoch  5, CIFAR-10 Batch 5:  Loss: 0.13330504298210144 Valid Accuracy: 0.6905999183654785\n",
      "Epoch  6, CIFAR-10 Batch 1:  Loss: 0.18171574175357819 Valid Accuracy: 0.6937998533248901\n",
      "Epoch  6, CIFAR-10 Batch 2:  Loss: 0.1254904568195343 Valid Accuracy: 0.6819998025894165\n",
      "Epoch  6, CIFAR-10 Batch 3:  Loss: 0.09221655130386353 Valid Accuracy: 0.7113998532295227\n",
      "Epoch  6, CIFAR-10 Batch 4:  Loss: 0.13521437346935272 Valid Accuracy: 0.6933998465538025\n",
      "Epoch  6, CIFAR-10 Batch 5:  Loss: 0.09826328605413437 Valid Accuracy: 0.6737998723983765\n",
      "Epoch  7, CIFAR-10 Batch 1:  Loss: 0.14345021545886993 Valid Accuracy: 0.7005999088287354\n",
      "Epoch  7, CIFAR-10 Batch 2:  Loss: 0.07258805632591248 Valid Accuracy: 0.7099999189376831\n",
      "Epoch  7, CIFAR-10 Batch 3:  Loss: 0.06409521400928497 Valid Accuracy: 0.6949998140335083\n",
      "Epoch  7, CIFAR-10 Batch 4:  Loss: 0.09624181687831879 Valid Accuracy: 0.6937998533248901\n",
      "Epoch  7, CIFAR-10 Batch 5:  Loss: 0.0653877854347229 Valid Accuracy: 0.6889998912811279\n",
      "Epoch  8, CIFAR-10 Batch 1:  Loss: 0.0734245628118515 Valid Accuracy: 0.7141998410224915\n",
      "Epoch  8, CIFAR-10 Batch 2:  Loss: 0.04915132001042366 Valid Accuracy: 0.7051998376846313\n",
      "Epoch  8, CIFAR-10 Batch 3:  Loss: 0.03854331001639366 Valid Accuracy: 0.6983999013900757\n",
      "Epoch  8, CIFAR-10 Batch 4:  Loss: 0.05209038406610489 Valid Accuracy: 0.7097997665405273\n",
      "Epoch  8, CIFAR-10 Batch 5:  Loss: 0.04393696039915085 Valid Accuracy: 0.6715999245643616\n",
      "Epoch  9, CIFAR-10 Batch 1:  Loss: 0.07775130867958069 Valid Accuracy: 0.6969998478889465\n",
      "Epoch  9, CIFAR-10 Batch 2:  Loss: 0.050212230533361435 Valid Accuracy: 0.6949998140335083\n",
      "Epoch  9, CIFAR-10 Batch 3:  Loss: 0.039690565317869186 Valid Accuracy: 0.6721998453140259\n",
      "Epoch  9, CIFAR-10 Batch 4:  Loss: 0.02894972264766693 Valid Accuracy: 0.7149998545646667\n",
      "Epoch  9, CIFAR-10 Batch 5:  Loss: 0.032247304916381836 Valid Accuracy: 0.7141999006271362\n",
      "Epoch 10, CIFAR-10 Batch 1:  Loss: 0.03599517047405243 Valid Accuracy: 0.7213998436927795\n",
      "Epoch 10, CIFAR-10 Batch 2:  Loss: 0.026482589542865753 Valid Accuracy: 0.6779998540878296\n",
      "Epoch 10, CIFAR-10 Batch 3:  Loss: 0.020596731454133987 Valid Accuracy: 0.6839998960494995\n",
      "Epoch 10, CIFAR-10 Batch 4:  Loss: 0.04351133853197098 Valid Accuracy: 0.6907998919487\n",
      "Epoch 10, CIFAR-10 Batch 5:  Loss: 0.03378249332308769 Valid Accuracy: 0.691399872303009\n",
      "Epoch 11, CIFAR-10 Batch 1:  Loss: 0.024849221110343933 Valid Accuracy: 0.7043998837471008\n",
      "Epoch 11, CIFAR-10 Batch 2:  Loss: 0.012373101897537708 Valid Accuracy: 0.6929999589920044\n",
      "Epoch 11, CIFAR-10 Batch 3:  Loss: 0.017984546720981598 Valid Accuracy: 0.7059999108314514\n",
      "Epoch 11, CIFAR-10 Batch 4:  Loss: 0.026346951723098755 Valid Accuracy: 0.699199914932251\n",
      "Epoch 11, CIFAR-10 Batch 5:  Loss: 0.0130918575450778 Valid Accuracy: 0.7091999053955078\n",
      "Epoch 12, CIFAR-10 Batch 1:  Loss: 0.01576211303472519 Valid Accuracy: 0.6955997943878174\n",
      "Epoch 12, CIFAR-10 Batch 2:  Loss: 0.012599902227520943 Valid Accuracy: 0.6805999279022217\n",
      "Epoch 12, CIFAR-10 Batch 3:  Loss: 0.008510496467351913 Valid Accuracy: 0.7099997997283936\n",
      "Epoch 12, CIFAR-10 Batch 4:  Loss: 0.01938195526599884 Valid Accuracy: 0.7111998796463013\n",
      "Epoch 12, CIFAR-10 Batch 5:  Loss: 0.009873238392174244 Valid Accuracy: 0.7127999067306519\n",
      "Epoch 13, CIFAR-10 Batch 1:  Loss: 0.012019580230116844 Valid Accuracy: 0.7113997936248779\n",
      "Epoch 13, CIFAR-10 Batch 2:  Loss: 0.012159362435340881 Valid Accuracy: 0.6789999008178711\n",
      "Epoch 13, CIFAR-10 Batch 3:  Loss: 0.01661568321287632 Valid Accuracy: 0.6827999353408813\n",
      "Epoch 13, CIFAR-10 Batch 4:  Loss: 0.009480618871748447 Valid Accuracy: 0.697799801826477\n",
      "Epoch 13, CIFAR-10 Batch 5:  Loss: 0.007675264496356249 Valid Accuracy: 0.7111998796463013\n",
      "Epoch 14, CIFAR-10 Batch 1:  Loss: 0.00998350977897644 Valid Accuracy: 0.7089998722076416\n",
      "Epoch 14, CIFAR-10 Batch 2:  Loss: 0.00989320408552885 Valid Accuracy: 0.687799870967865\n",
      "Epoch 14, CIFAR-10 Batch 3:  Loss: 0.007922142744064331 Valid Accuracy: 0.6937998533248901\n",
      "Epoch 14, CIFAR-10 Batch 4:  Loss: 0.005686993710696697 Valid Accuracy: 0.7013998627662659\n",
      "Epoch 14, CIFAR-10 Batch 5:  Loss: 0.010915229097008705 Valid Accuracy: 0.7137998342514038\n",
      "Epoch 15, CIFAR-10 Batch 1:  Loss: 0.008222769945859909 Valid Accuracy: 0.7243998646736145\n",
      "Epoch 15, CIFAR-10 Batch 2:  Loss: 0.00466690631583333 Valid Accuracy: 0.7033998370170593\n",
      "Epoch 15, CIFAR-10 Batch 3:  Loss: 0.005989243742078543 Valid Accuracy: 0.6905999183654785\n",
      "Epoch 15, CIFAR-10 Batch 4:  Loss: 0.003839497920125723 Valid Accuracy: 0.7093998193740845\n",
      "Epoch 15, CIFAR-10 Batch 5:  Loss: 0.003713246900588274 Valid Accuracy: 0.7067999243736267\n",
      "Epoch 16, CIFAR-10 Batch 1:  Loss: 0.006840157322585583 Valid Accuracy: 0.7125998735427856\n",
      "Epoch 16, CIFAR-10 Batch 2:  Loss: 0.002601425861939788 Valid Accuracy: 0.7099998593330383\n",
      "Epoch 16, CIFAR-10 Batch 3:  Loss: 0.001797789242118597 Valid Accuracy: 0.6937999129295349\n",
      "Epoch 16, CIFAR-10 Batch 4:  Loss: 0.004362039268016815 Valid Accuracy: 0.7009998559951782\n",
      "Epoch 16, CIFAR-10 Batch 5:  Loss: 0.005566686857491732 Valid Accuracy: 0.6907998323440552\n",
      "Epoch 17, CIFAR-10 Batch 1:  Loss: 0.0031675787176936865 Valid Accuracy: 0.7127998471260071\n",
      "Epoch 17, CIFAR-10 Batch 2:  Loss: 0.005394074600189924 Valid Accuracy: 0.710399866104126\n",
      "Epoch 17, CIFAR-10 Batch 3:  Loss: 0.0014720761682838202 Valid Accuracy: 0.7085998058319092\n",
      "Epoch 17, CIFAR-10 Batch 4:  Loss: 0.0022974018938839436 Valid Accuracy: 0.7161998152732849\n",
      "Epoch 17, CIFAR-10 Batch 5:  Loss: 0.002731235232204199 Valid Accuracy: 0.6971998810768127\n",
      "Epoch 18, CIFAR-10 Batch 1:  Loss: 0.0028658704832196236 Valid Accuracy: 0.6997998952865601\n",
      "Epoch 18, CIFAR-10 Batch 2:  Loss: 0.0032189625781029463 Valid Accuracy: 0.6907998323440552\n",
      "Epoch 18, CIFAR-10 Batch 3:  Loss: 0.0007252467330545187 Valid Accuracy: 0.7113998532295227\n",
      "Epoch 18, CIFAR-10 Batch 4:  Loss: 0.007560925558209419 Valid Accuracy: 0.7073999643325806\n",
      "Epoch 18, CIFAR-10 Batch 5:  Loss: 0.004925744608044624 Valid Accuracy: 0.7025998830795288\n",
      "Epoch 19, CIFAR-10 Batch 1:  Loss: 0.003136433893814683 Valid Accuracy: 0.6983999013900757\n"
     ]
    },
    {
     "name": "stdout",
     "output_type": "stream",
     "text": [
      "Epoch 19, CIFAR-10 Batch 2:  Loss: 0.0016342962626367807 Valid Accuracy: 0.707399845123291\n",
      "Epoch 19, CIFAR-10 Batch 3:  Loss: 0.0015439119888469577 Valid Accuracy: 0.7067998647689819\n",
      "Epoch 19, CIFAR-10 Batch 4:  Loss: 0.0038891532458364964 Valid Accuracy: 0.7089998126029968\n",
      "Epoch 19, CIFAR-10 Batch 5:  Loss: 0.00342056667432189 Valid Accuracy: 0.7017998695373535\n",
      "Epoch 20, CIFAR-10 Batch 1:  Loss: 0.00530889630317688 Valid Accuracy: 0.715799868106842\n",
      "Epoch 20, CIFAR-10 Batch 2:  Loss: 0.007441998925060034 Valid Accuracy: 0.7153998613357544\n",
      "Epoch 20, CIFAR-10 Batch 3:  Loss: 0.0014562627766281366 Valid Accuracy: 0.7029998898506165\n",
      "Epoch 20, CIFAR-10 Batch 4:  Loss: 0.0006259953952394426 Valid Accuracy: 0.707399845123291\n",
      "Epoch 20, CIFAR-10 Batch 5:  Loss: 0.0020383193623274565 Valid Accuracy: 0.6819998621940613\n",
      "Epoch 21, CIFAR-10 Batch 1:  Loss: 0.0017524722497910261 Valid Accuracy: 0.7041999101638794\n",
      "Epoch 21, CIFAR-10 Batch 2:  Loss: 0.001769334077835083 Valid Accuracy: 0.7229998111724854\n",
      "Epoch 21, CIFAR-10 Batch 3:  Loss: 0.0009822186548262835 Valid Accuracy: 0.7155998349189758\n",
      "Epoch 21, CIFAR-10 Batch 4:  Loss: 0.0028975913301110268 Valid Accuracy: 0.7193998098373413\n",
      "Epoch 21, CIFAR-10 Batch 5:  Loss: 0.003969667479395866 Valid Accuracy: 0.687799870967865\n",
      "Epoch 22, CIFAR-10 Batch 1:  Loss: 0.002951649948954582 Valid Accuracy: 0.6971998810768127\n",
      "Epoch 22, CIFAR-10 Batch 2:  Loss: 0.003470071591436863 Valid Accuracy: 0.7135998606681824\n",
      "Epoch 22, CIFAR-10 Batch 3:  Loss: 0.0033944963943213224 Valid Accuracy: 0.7115998864173889\n",
      "Epoch 22, CIFAR-10 Batch 4:  Loss: 0.0018350867321714759 Valid Accuracy: 0.7135998606681824\n",
      "Epoch 22, CIFAR-10 Batch 5:  Loss: 0.001866928767412901 Valid Accuracy: 0.7073999047279358\n",
      "Epoch 23, CIFAR-10 Batch 1:  Loss: 0.0017810650169849396 Valid Accuracy: 0.7091997861862183\n",
      "Epoch 23, CIFAR-10 Batch 2:  Loss: 0.0008704806677997112 Valid Accuracy: 0.7131998538970947\n",
      "Epoch 23, CIFAR-10 Batch 3:  Loss: 0.003029135288670659 Valid Accuracy: 0.7197998762130737\n",
      "Epoch 23, CIFAR-10 Batch 4:  Loss: 0.0016710173804312944 Valid Accuracy: 0.7067998647689819\n",
      "Epoch 23, CIFAR-10 Batch 5:  Loss: 0.0010098160710185766 Valid Accuracy: 0.7161998748779297\n",
      "Epoch 24, CIFAR-10 Batch 1:  Loss: 0.0004960729856975377 Valid Accuracy: 0.7195998430252075\n",
      "Epoch 24, CIFAR-10 Batch 2:  Loss: 0.0004030694835819304 Valid Accuracy: 0.7257997989654541\n",
      "Epoch 24, CIFAR-10 Batch 3:  Loss: 0.001573362504132092 Valid Accuracy: 0.7159998416900635\n",
      "Epoch 24, CIFAR-10 Batch 4:  Loss: 0.0007431086269207299 Valid Accuracy: 0.7049998044967651\n",
      "Epoch 24, CIFAR-10 Batch 5:  Loss: 0.000806668889708817 Valid Accuracy: 0.7259998321533203\n",
      "Epoch 25, CIFAR-10 Batch 1:  Loss: 0.0005248846719041467 Valid Accuracy: 0.7221998572349548\n",
      "Epoch 25, CIFAR-10 Batch 2:  Loss: 0.0013235325459390879 Valid Accuracy: 0.7225998640060425\n",
      "Epoch 25, CIFAR-10 Batch 3:  Loss: 0.0019447709200903773 Valid Accuracy: 0.7137998342514038\n",
      "Epoch 25, CIFAR-10 Batch 4:  Loss: 0.0009956046706065536 Valid Accuracy: 0.7115998268127441\n",
      "Epoch 25, CIFAR-10 Batch 5:  Loss: 0.00016865153156686574 Valid Accuracy: 0.7221998572349548\n",
      "Epoch 26, CIFAR-10 Batch 1:  Loss: 0.00398715166375041 Valid Accuracy: 0.7137998938560486\n",
      "Epoch 26, CIFAR-10 Batch 2:  Loss: 0.000701303593814373 Valid Accuracy: 0.7269998788833618\n",
      "Epoch 26, CIFAR-10 Batch 3:  Loss: 0.002107918495312333 Valid Accuracy: 0.7187998294830322\n",
      "Epoch 26, CIFAR-10 Batch 4:  Loss: 0.001233877264894545 Valid Accuracy: 0.702799916267395\n",
      "Epoch 26, CIFAR-10 Batch 5:  Loss: 0.00017016861238516867 Valid Accuracy: 0.7217998504638672\n",
      "Epoch 27, CIFAR-10 Batch 1:  Loss: 0.028042471036314964 Valid Accuracy: 0.7041998505592346\n",
      "Epoch 27, CIFAR-10 Batch 2:  Loss: 0.003841642290353775 Valid Accuracy: 0.7081998586654663\n",
      "Epoch 27, CIFAR-10 Batch 3:  Loss: 0.00019948332919739187 Valid Accuracy: 0.7267999053001404\n",
      "Epoch 27, CIFAR-10 Batch 4:  Loss: 0.000448516191681847 Valid Accuracy: 0.7081998586654663\n",
      "Epoch 27, CIFAR-10 Batch 5:  Loss: 0.0003880353760905564 Valid Accuracy: 0.7151998281478882\n",
      "Epoch 28, CIFAR-10 Batch 1:  Loss: 0.0007293530507013202 Valid Accuracy: 0.7075998783111572\n",
      "Epoch 28, CIFAR-10 Batch 2:  Loss: 0.0003017998824361712 Valid Accuracy: 0.7243998050689697\n",
      "Epoch 28, CIFAR-10 Batch 3:  Loss: 0.0005415806663222611 Valid Accuracy: 0.7145998477935791\n",
      "Epoch 28, CIFAR-10 Batch 4:  Loss: 0.0023453193716704845 Valid Accuracy: 0.7035998702049255\n",
      "Epoch 28, CIFAR-10 Batch 5:  Loss: 0.0005288420361466706 Valid Accuracy: 0.7237998247146606\n",
      "Epoch 29, CIFAR-10 Batch 1:  Loss: 0.0015306484419852495 Valid Accuracy: 0.7247998118400574\n",
      "Epoch 29, CIFAR-10 Batch 2:  Loss: 0.00040839152643457055 Valid Accuracy: 0.7231997847557068\n",
      "Epoch 29, CIFAR-10 Batch 3:  Loss: 0.00039786743582226336 Valid Accuracy: 0.721599817276001\n",
      "Epoch 29, CIFAR-10 Batch 4:  Loss: 0.000492639490403235 Valid Accuracy: 0.7129998207092285\n",
      "Epoch 29, CIFAR-10 Batch 5:  Loss: 0.0005064053693786263 Valid Accuracy: 0.7195998430252075\n",
      "Epoch 30, CIFAR-10 Batch 1:  Loss: 0.0012414806988090277 Valid Accuracy: 0.7099998593330383\n",
      "Epoch 30, CIFAR-10 Batch 2:  Loss: 0.00018279545474797487 Valid Accuracy: 0.7129998207092285\n",
      "Epoch 30, CIFAR-10 Batch 3:  Loss: 0.00014288470265455544 Valid Accuracy: 0.7147998213768005\n",
      "Epoch 30, CIFAR-10 Batch 4:  Loss: 0.00018130606622435153 Valid Accuracy: 0.7143998742103577\n",
      "Epoch 30, CIFAR-10 Batch 5:  Loss: 0.0006215283065102994 Valid Accuracy: 0.7235997915267944\n",
      "Epoch 31, CIFAR-10 Batch 1:  Loss: 0.00047991739120334387 Valid Accuracy: 0.7183998227119446\n",
      "Epoch 31, CIFAR-10 Batch 2:  Loss: 0.0012679286301136017 Valid Accuracy: 0.7227998375892639\n",
      "Epoch 31, CIFAR-10 Batch 3:  Loss: 0.00014337759057525545 Valid Accuracy: 0.7185998558998108\n",
      "Epoch 31, CIFAR-10 Batch 4:  Loss: 0.0019807887729257345 Valid Accuracy: 0.703799843788147\n",
      "Epoch 31, CIFAR-10 Batch 5:  Loss: 0.002228360390290618 Valid Accuracy: 0.7213998436927795\n",
      "Epoch 32, CIFAR-10 Batch 1:  Loss: 0.00027894292725250125 Valid Accuracy: 0.7191998362541199\n",
      "Epoch 32, CIFAR-10 Batch 2:  Loss: 0.00024973065592348576 Valid Accuracy: 0.7261999249458313\n",
      "Epoch 32, CIFAR-10 Batch 3:  Loss: 0.00015242057270370424 Valid Accuracy: 0.7205998301506042\n",
      "Epoch 32, CIFAR-10 Batch 4:  Loss: 0.0012538861483335495 Valid Accuracy: 0.7105998396873474\n",
      "Epoch 32, CIFAR-10 Batch 5:  Loss: 0.000296597252599895 Valid Accuracy: 0.7303998470306396\n",
      "Epoch 33, CIFAR-10 Batch 1:  Loss: 0.00015631402493454516 Valid Accuracy: 0.7279999256134033\n",
      "Epoch 33, CIFAR-10 Batch 2:  Loss: 0.0002970450441353023 Valid Accuracy: 0.7233998775482178\n",
      "Epoch 33, CIFAR-10 Batch 3:  Loss: 0.00046329403994604945 Valid Accuracy: 0.726399838924408\n",
      "Epoch 33, CIFAR-10 Batch 4:  Loss: 0.0008207342470996082 Valid Accuracy: 0.7269998788833618\n",
      "Epoch 33, CIFAR-10 Batch 5:  Loss: 0.0002572702360339463 Valid Accuracy: 0.719799816608429\n",
      "Epoch 34, CIFAR-10 Batch 1:  Loss: 0.0008143521845340729 Valid Accuracy: 0.7245998978614807\n",
      "Epoch 34, CIFAR-10 Batch 2:  Loss: 0.00010219072282779962 Valid Accuracy: 0.7265998125076294\n",
      "Epoch 34, CIFAR-10 Batch 3:  Loss: 6.55867625027895e-05 Valid Accuracy: 0.7219997644424438\n",
      "Epoch 34, CIFAR-10 Batch 4:  Loss: 0.00014102859131526202 Valid Accuracy: 0.7183998227119446\n",
      "Epoch 34, CIFAR-10 Batch 5:  Loss: 0.0011699189199134707 Valid Accuracy: 0.7119998931884766\n",
      "Epoch 35, CIFAR-10 Batch 1:  Loss: 0.001079185982234776 Valid Accuracy: 0.7203998565673828\n",
      "Epoch 35, CIFAR-10 Batch 2:  Loss: 0.00023187804617919028 Valid Accuracy: 0.7267999053001404\n",
      "Epoch 35, CIFAR-10 Batch 3:  Loss: 7.097410707501695e-05 Valid Accuracy: 0.726999819278717\n",
      "Epoch 35, CIFAR-10 Batch 4:  Loss: 0.001003440236672759 Valid Accuracy: 0.7199999094009399\n",
      "Epoch 35, CIFAR-10 Batch 5:  Loss: 0.00033406043075956404 Valid Accuracy: 0.7219998240470886\n",
      "Epoch 36, CIFAR-10 Batch 1:  Loss: 0.0016143183456733823 Valid Accuracy: 0.7115998268127441\n",
      "Epoch 36, CIFAR-10 Batch 2:  Loss: 0.0013223652495071292 Valid Accuracy: 0.7263998985290527\n",
      "Epoch 36, CIFAR-10 Batch 3:  Loss: 0.0003742447297554463 Valid Accuracy: 0.7249998450279236\n",
      "Epoch 36, CIFAR-10 Batch 4:  Loss: 0.0009851978393271565 Valid Accuracy: 0.7225998044013977\n",
      "Epoch 36, CIFAR-10 Batch 5:  Loss: 0.0008576271357014775 Valid Accuracy: 0.7197998762130737\n"
     ]
    },
    {
     "name": "stdout",
     "output_type": "stream",
     "text": [
      "Epoch 37, CIFAR-10 Batch 1:  Loss: 0.0010790993692353368 Valid Accuracy: 0.720599889755249\n",
      "Epoch 37, CIFAR-10 Batch 2:  Loss: 0.0018904556054621935 Valid Accuracy: 0.7239999175071716\n",
      "Epoch 37, CIFAR-10 Batch 3:  Loss: 0.0011693921405822039 Valid Accuracy: 0.7247998714447021\n",
      "Epoch 37, CIFAR-10 Batch 4:  Loss: 0.00043921059113927186 Valid Accuracy: 0.714999794960022\n",
      "Epoch 37, CIFAR-10 Batch 5:  Loss: 0.0006570778787136078 Valid Accuracy: 0.7269998788833618\n",
      "Epoch 38, CIFAR-10 Batch 1:  Loss: 0.00018054494285024703 Valid Accuracy: 0.7279998660087585\n",
      "Epoch 38, CIFAR-10 Batch 2:  Loss: 6.403868610505015e-05 Valid Accuracy: 0.7321998476982117\n",
      "Epoch 38, CIFAR-10 Batch 3:  Loss: 0.00020592000510077924 Valid Accuracy: 0.7289998531341553\n",
      "Epoch 38, CIFAR-10 Batch 4:  Loss: 0.0006310417666099966 Valid Accuracy: 0.7211998701095581\n",
      "Epoch 38, CIFAR-10 Batch 5:  Loss: 0.00044560671085491776 Valid Accuracy: 0.726399838924408\n",
      "Epoch 39, CIFAR-10 Batch 1:  Loss: 0.0002621971070766449 Valid Accuracy: 0.7285998463630676\n",
      "Epoch 39, CIFAR-10 Batch 2:  Loss: 9.898429561872035e-05 Valid Accuracy: 0.7339998483657837\n",
      "Epoch 39, CIFAR-10 Batch 3:  Loss: 0.0002479115210007876 Valid Accuracy: 0.7231998443603516\n",
      "Epoch 39, CIFAR-10 Batch 4:  Loss: 0.0005918395472690463 Valid Accuracy: 0.7191998362541199\n",
      "Epoch 39, CIFAR-10 Batch 5:  Loss: 0.0021512918174266815 Valid Accuracy: 0.7241998910903931\n",
      "Epoch 40, CIFAR-10 Batch 1:  Loss: 0.00010223721619695425 Valid Accuracy: 0.7279999256134033\n",
      "Epoch 40, CIFAR-10 Batch 2:  Loss: 3.539061071933247e-05 Valid Accuracy: 0.7285999059677124\n",
      "Epoch 40, CIFAR-10 Batch 3:  Loss: 1.585863356012851e-05 Valid Accuracy: 0.725199818611145\n",
      "Epoch 40, CIFAR-10 Batch 4:  Loss: 0.00012438822886906564 Valid Accuracy: 0.7161998748779297\n",
      "Epoch 40, CIFAR-10 Batch 5:  Loss: 0.00033424459979869425 Valid Accuracy: 0.7237998843193054\n",
      "Epoch 41, CIFAR-10 Batch 1:  Loss: 0.0004755487898364663 Valid Accuracy: 0.7183998823165894\n",
      "Epoch 41, CIFAR-10 Batch 2:  Loss: 0.0008878057124093175 Valid Accuracy: 0.7273998856544495\n",
      "Epoch 41, CIFAR-10 Batch 3:  Loss: 1.4879365153319668e-05 Valid Accuracy: 0.7247998714447021\n",
      "Epoch 41, CIFAR-10 Batch 4:  Loss: 0.00011167642514919862 Valid Accuracy: 0.722399890422821\n",
      "Epoch 41, CIFAR-10 Batch 5:  Loss: 0.00046277904766611755 Valid Accuracy: 0.7235998511314392\n",
      "Epoch 42, CIFAR-10 Batch 1:  Loss: 8.226199133787304e-05 Valid Accuracy: 0.722399890422821\n",
      "Epoch 42, CIFAR-10 Batch 2:  Loss: 0.0006735219503752887 Valid Accuracy: 0.72819983959198\n",
      "Epoch 42, CIFAR-10 Batch 3:  Loss: 0.00010668804316082969 Valid Accuracy: 0.7241997718811035\n",
      "Epoch 42, CIFAR-10 Batch 4:  Loss: 0.0006352078635245562 Valid Accuracy: 0.7227998971939087\n",
      "Epoch 42, CIFAR-10 Batch 5:  Loss: 0.001398582011461258 Valid Accuracy: 0.719799816608429\n",
      "Epoch 43, CIFAR-10 Batch 1:  Loss: 0.0007682229042984545 Valid Accuracy: 0.7297998070716858\n",
      "Epoch 43, CIFAR-10 Batch 2:  Loss: 0.0014727490488439798 Valid Accuracy: 0.7283998131752014\n",
      "Epoch 43, CIFAR-10 Batch 3:  Loss: 0.00044305689516477287 Valid Accuracy: 0.7225998044013977\n",
      "Epoch 43, CIFAR-10 Batch 4:  Loss: 7.198161620181054e-05 Valid Accuracy: 0.7165998220443726\n",
      "Epoch 43, CIFAR-10 Batch 5:  Loss: 0.0009438154520466924 Valid Accuracy: 0.7293998003005981\n",
      "Epoch 44, CIFAR-10 Batch 1:  Loss: 1.9709827029146254e-05 Valid Accuracy: 0.7331998348236084\n",
      "Epoch 44, CIFAR-10 Batch 2:  Loss: 9.417418914381415e-05 Valid Accuracy: 0.7307998538017273\n",
      "Epoch 44, CIFAR-10 Batch 3:  Loss: 2.381627564318478e-05 Valid Accuracy: 0.720599889755249\n",
      "Epoch 44, CIFAR-10 Batch 4:  Loss: 0.00026074767811223865 Valid Accuracy: 0.7183998823165894\n",
      "Epoch 44, CIFAR-10 Batch 5:  Loss: 0.00018308349535800517 Valid Accuracy: 0.7271997928619385\n",
      "Epoch 45, CIFAR-10 Batch 1:  Loss: 8.263513882411644e-05 Valid Accuracy: 0.7323998212814331\n",
      "Epoch 45, CIFAR-10 Batch 2:  Loss: 0.00011565816384973004 Valid Accuracy: 0.7321998476982117\n",
      "Epoch 45, CIFAR-10 Batch 3:  Loss: 0.00026670124498195946 Valid Accuracy: 0.7285998463630676\n",
      "Epoch 45, CIFAR-10 Batch 4:  Loss: 0.0021994542330503464 Valid Accuracy: 0.7247998714447021\n",
      "Epoch 45, CIFAR-10 Batch 5:  Loss: 6.127798405941576e-05 Valid Accuracy: 0.7381998300552368\n",
      "Epoch 46, CIFAR-10 Batch 1:  Loss: 0.0008999527199193835 Valid Accuracy: 0.7223998308181763\n",
      "Epoch 46, CIFAR-10 Batch 2:  Loss: 0.0001327839127043262 Valid Accuracy: 0.7309998273849487\n",
      "Epoch 46, CIFAR-10 Batch 3:  Loss: 1.0221612683380954e-05 Valid Accuracy: 0.725199818611145\n",
      "Epoch 46, CIFAR-10 Batch 4:  Loss: 6.153767026262358e-05 Valid Accuracy: 0.7271998524665833\n",
      "Epoch 46, CIFAR-10 Batch 5:  Loss: 0.00023300101747736335 Valid Accuracy: 0.736599862575531\n",
      "Epoch 47, CIFAR-10 Batch 1:  Loss: 7.390001701423898e-05 Valid Accuracy: 0.7309998273849487\n",
      "Epoch 47, CIFAR-10 Batch 2:  Loss: 0.00023701789905317128 Valid Accuracy: 0.7287998795509338\n",
      "Epoch 47, CIFAR-10 Batch 3:  Loss: 0.0007229060865938663 Valid Accuracy: 0.7179998755455017\n",
      "Epoch 47, CIFAR-10 Batch 4:  Loss: 0.0002799059438984841 Valid Accuracy: 0.7249999046325684\n",
      "Epoch 47, CIFAR-10 Batch 5:  Loss: 0.00014828334678895772 Valid Accuracy: 0.7253998517990112\n",
      "Epoch 48, CIFAR-10 Batch 1:  Loss: 0.00015937689749989659 Valid Accuracy: 0.7255998253822327\n",
      "Epoch 48, CIFAR-10 Batch 2:  Loss: 0.00027797225629910827 Valid Accuracy: 0.7303998470306396\n",
      "Epoch 48, CIFAR-10 Batch 3:  Loss: 2.9510430977097712e-05 Valid Accuracy: 0.7287998199462891\n",
      "Epoch 48, CIFAR-10 Batch 4:  Loss: 0.0002553872182033956 Valid Accuracy: 0.7269998788833618\n",
      "Epoch 48, CIFAR-10 Batch 5:  Loss: 0.00015353393973782659 Valid Accuracy: 0.7161998748779297\n",
      "Epoch 49, CIFAR-10 Batch 1:  Loss: 4.420526238391176e-05 Valid Accuracy: 0.7277998924255371\n",
      "Epoch 49, CIFAR-10 Batch 2:  Loss: 0.0005994143430143595 Valid Accuracy: 0.7327998280525208\n",
      "Epoch 49, CIFAR-10 Batch 3:  Loss: 9.991410479415208e-05 Valid Accuracy: 0.7237998247146606\n",
      "Epoch 49, CIFAR-10 Batch 4:  Loss: 6.609113188460469e-05 Valid Accuracy: 0.725399911403656\n",
      "Epoch 49, CIFAR-10 Batch 5:  Loss: 0.0006852267542853951 Valid Accuracy: 0.7333998680114746\n",
      "Epoch 50, CIFAR-10 Batch 1:  Loss: 0.0001437081809854135 Valid Accuracy: 0.7241998314857483\n",
      "Epoch 50, CIFAR-10 Batch 2:  Loss: 3.97016410715878e-05 Valid Accuracy: 0.7313998341560364\n",
      "Epoch 50, CIFAR-10 Batch 3:  Loss: 0.0001236922398675233 Valid Accuracy: 0.7311998605728149\n",
      "Epoch 50, CIFAR-10 Batch 4:  Loss: 0.0005391422309912741 Valid Accuracy: 0.7171998620033264\n",
      "Epoch 50, CIFAR-10 Batch 5:  Loss: 9.529090311843902e-05 Valid Accuracy: 0.726999819278717\n"
     ]
    }
   ],
   "source": [
    "\"\"\"\n",
    "DON'T MODIFY ANYTHING IN THIS CELL\n",
    "\"\"\"\n",
    "save_model_path = './image_classification'\n",
    "\n",
    "print('Training...')\n",
    "with tf.Session() as sess:\n",
    "    # Initializing the variables\n",
    "    sess.run(tf.global_variables_initializer())\n",
    "    \n",
    "    # Training cycle\n",
    "    for epoch in range(epochs):\n",
    "        # Loop over all batches\n",
    "        n_batches = 5\n",
    "        for batch_i in range(1, n_batches + 1):\n",
    "            for batch_features, batch_labels in helper.load_preprocess_training_batch(batch_i, batch_size):\n",
    "                train_neural_network(sess, optimizer, keep_probability, batch_features, batch_labels)\n",
    "            print('Epoch {:>2}, CIFAR-10 Batch {}:  '.format(epoch + 1, batch_i), end='')\n",
    "            print_stats(sess, batch_features, batch_labels, cost, accuracy)\n",
    "            \n",
    "    # Save Model\n",
    "    saver = tf.train.Saver()\n",
    "    save_path = saver.save(sess, save_model_path)"
   ]
  },
  {
   "cell_type": "markdown",
   "metadata": {},
   "source": [
    "# Checkpoint\n",
    "The model has been saved to disk.\n",
    "## Test Model\n",
    "Test your model against the test dataset.  This will be your final accuracy. You should have an accuracy greater than 50%. If you don't, keep tweaking the model architecture and parameters."
   ]
  },
  {
   "cell_type": "code",
   "execution_count": 54,
   "metadata": {},
   "outputs": [
    {
     "name": "stdout",
     "output_type": "stream",
     "text": [
      "INFO:tensorflow:Restoring parameters from ./image_classification\n",
      "Testing Accuracy: 0.7154296875\n",
      "\n"
     ]
    },
    {
     "data": {
      "image/png": "[encoded data removed]",
      "text/plain": [
       "<matplotlib.figure.Figure at 0x7fd17a7b4358>"
      ]
     },
     "metadata": {
      "image/png": {
       "height": 319,
       "width": 353
      }
     },
     "output_type": "display_data"
    }
   ],
   "source": [
    "\"\"\"\n",
    "DON'T MODIFY ANYTHING IN THIS CELL\n",
    "\"\"\"\n",
    "%matplotlib inline\n",
    "%config InlineBackend.figure_format = 'retina'\n",
    "\n",
    "import tensorflow as tf\n",
    "import pickle\n",
    "import helper\n",
    "import random\n",
    "\n",
    "# Set batch size if not already set\n",
    "try:\n",
    "    if batch_size:\n",
    "        pass\n",
    "except NameError:\n",
    "    batch_size = 64\n",
    "\n",
    "save_model_path = './image_classification'\n",
    "n_samples = 4\n",
    "top_n_predictions = 3\n",
    "\n",
    "def test_model():\n",
    "    \"\"\"\n",
    "    Test the saved model against the test dataset\n",
    "    \"\"\"\n",
    "\n",
    "    test_features, test_labels = pickle.load(open('preprocess_training.p', mode='rb'))\n",
    "    loaded_graph = tf.Graph()\n",
    "\n",
    "    with tf.Session(graph=loaded_graph) as sess:\n",
    "        # Load model\n",
    "        loader = tf.train.import_meta_graph(save_model_path + '.meta')\n",
    "        loader.restore(sess, save_model_path)\n",
    "\n",
    "        # Get Tensors from loaded model\n",
    "        loaded_x = loaded_graph.get_tensor_by_name('x:0')\n",
    "        loaded_y = loaded_graph.get_tensor_by_name('y:0')\n",
    "        loaded_keep_prob = loaded_graph.get_tensor_by_name('keep_prob:0')\n",
    "        loaded_logits = loaded_graph.get_tensor_by_name('logits:0')\n",
    "        loaded_acc = loaded_graph.get_tensor_by_name('accuracy:0')\n",
    "        \n",
    "        # Get accuracy in batches for memory limitations\n",
    "        test_batch_acc_total = 0\n",
    "        test_batch_count = 0\n",
    "        \n",
    "        for train_feature_batch, train_label_batch in helper.batch_features_labels(test_features, test_labels, batch_size):\n",
    "            test_batch_acc_total += sess.run(\n",
    "                loaded_acc,\n",
    "                feed_dict={loaded_x: train_feature_batch, loaded_y: train_label_batch, loaded_keep_prob: 1.0})\n",
    "            test_batch_count += 1\n",
    "\n",
    "        print('Testing Accuracy: {}\\n'.format(test_batch_acc_total/test_batch_count))\n",
    "\n",
    "        # Print Random Samples\n",
    "        random_test_features, random_test_labels = tuple(zip(*random.sample(list(zip(test_features, test_labels)), n_samples)))\n",
    "        random_test_predictions = sess.run(\n",
    "            tf.nn.top_k(tf.nn.softmax(loaded_logits), top_n_predictions),\n",
    "            feed_dict={loaded_x: random_test_features, loaded_y: random_test_labels, loaded_keep_prob: 1.0})\n",
    "        helper.display_image_predictions(random_test_features, random_test_labels, random_test_predictions)\n",
    "\n",
    "\n",
    "test_model()"
   ]
  },
  {
   "cell_type": "markdown",
   "metadata": {},
   "source": [
    "## Why 50-70% Accuracy?\n",
    "You might be wondering why you can't get an accuracy any higher. First things first, 50% isn't bad for a simple CNN.  Pure guessing would get you 10% accuracy. However, you might notice people are getting scores [well above 70%](http://rodrigob.github.io/are_we_there_yet/build/classification_datasets_results.html#43494641522d3130).  That's because we haven't taught you all there is to know about neural networks. We still need to cover a few more techniques.\n",
    "## Submitting This Project\n",
    "When submitting this project, make sure to run all the cells before saving the notebook.  Save the notebook file as \"dlnd_image_classification.ipynb\" and save it as a HTML file under \"File\" -> \"Download as\".  Include the \"helper.py\" and \"problem_unittests.py\" files in your submission."
   ]
  }
 ],
 "metadata": {
  "kernelspec": {
   "display_name": "Python 3",
   "language": "python",
   "name": "python3"
  },
  "language_info": {
   "codemirror_mode": {
    "name": "ipython",
    "version": 3
   },
   "file_extension": ".py",
   "mimetype": "text/x-python",
   "name": "python",
   "nbconvert_exporter": "python",
   "pygments_lexer": "ipython3",
   "version": "3.5.3"
  }
 },
 "nbformat": 4,
 "nbformat_minor": 1
}
